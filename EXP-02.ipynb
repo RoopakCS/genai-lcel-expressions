{
 "cells": [
  {
   "cell_type": "code",
   "execution_count": 42,
   "id": "c754a9d7",
   "metadata": {
    "height": 115
   },
   "outputs": [],
   "source": [
    "from langchain.prompts import PromptTemplate\n",
    "from langchain.chains import LLMChain\n",
    "from langchain.chat_models import ChatOpenAI\n",
    "from langchain.output_parsers import ResponseSchema\n",
    "from langchain.schema import OutputParserException\n",
    "from langchain.schema.output_parser import StrOutputParser"
   ]
  },
  {
   "cell_type": "code",
   "execution_count": 43,
   "id": "66432cb7",
   "metadata": {
    "height": 285
   },
   "outputs": [],
   "source": [
    "# Define the PromptTemplate\n",
    "prompt = PromptTemplate(\n",
    "    template=\"\"\"\n",
    "You are a travel assistant. Based on the following inputs, recommend a destination:\n",
    "- Preferred activity: {activity}\n",
    "- Budget (in USD): {budget}\n",
    "\n",
    "Provide a response strictly in JSON format:\n",
    "{{\n",
    "    \"destination\": \"<destination>\",\n",
    "    \"activity\": \"<activity>\",\n",
    "    \"cost\": \"<cost>\"\n",
    "}}\n",
    "\"\"\",\n",
    "    input_variables=[\"activity\", \"budget\"],\n",
    ")"
   ]
  },
  {
   "cell_type": "code",
   "execution_count": 44,
   "id": "8ded6440",
   "metadata": {
    "height": 132
   },
   "outputs": [],
   "source": [
    "# Define the Output Parser\n",
    "response_schemas = [\n",
    "    ResponseSchema(name=\"destination\", description=\"Recommended travel destination\"),\n",
    "    ResponseSchema(name=\"activity\", description=\"Suggested activity at the destination\"),\n",
    "    ResponseSchema(name=\"cost\", description=\"Estimated cost in USD for the trip\"),\n",
    "]\n",
    "output_parser = StrOutputParser()"
   ]
  },
  {
   "cell_type": "code",
   "execution_count": 45,
   "id": "f7e81589",
   "metadata": {
    "height": 47
   },
   "outputs": [],
   "source": [
    "# Initialize the LLM\n",
    "llm = ChatOpenAI(model=\"gpt-4-0613\", temperature=0)"
   ]
  },
  {
   "cell_type": "code",
   "execution_count": 46,
   "id": "75441918",
   "metadata": {
    "height": 47
   },
   "outputs": [],
   "source": [
    "# Create the LangChain Expression (LLM Chain)\n",
    "chain = LLMChain(llm=llm, prompt=prompt, output_parser=output_parser)"
   ]
  },
  {
   "cell_type": "code",
   "execution_count": 47,
   "id": "52dc778d",
   "metadata": {
    "height": 64
   },
   "outputs": [],
   "source": [
    "# Test the chain with an example\n",
    "input_data = {\"activity\": \"hiking\", \"budget\": 1000}\n",
    "result = chain.run(input_data)"
   ]
  },
  {
   "cell_type": "code",
   "execution_count": 48,
   "id": "f9b659f8",
   "metadata": {
    "height": 47
   },
   "outputs": [],
   "source": [
    "# Parse the structured output\n",
    "parsed_result = output_parser.parse(result)"
   ]
  },
  {
   "cell_type": "code",
   "execution_count": 50,
   "id": "4c04a4fa",
   "metadata": {
    "height": 30
   },
   "outputs": [
    {
     "name": "stdout",
     "output_type": "stream",
     "text": [
      "Recommendation: {\n",
      "    \"destination\": \"Appalachian Trail, USA\",\n",
      "    \"activity\": \"hiking\",\n",
      "    \"cost\": \"1000\"\n",
      "}\n"
     ]
    }
   ],
   "source": [
    "# Display the result\n",
    "print(\"Recommendation:\", parsed_result)"
   ]
  }
 ],
 "metadata": {
  "kernelspec": {
   "display_name": "Python 3 (ipykernel)",
   "language": "python",
   "name": "python3"
  },
  "language_info": {
   "codemirror_mode": {
    "name": "ipython",
    "version": 3
   },
   "file_extension": ".py",
   "mimetype": "text/x-python",
   "name": "python",
   "nbconvert_exporter": "python",
   "pygments_lexer": "ipython3",
   "version": "3.9.19"
  }
 },
 "nbformat": 4,
 "nbformat_minor": 5
}
