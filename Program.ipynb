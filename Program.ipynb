{
 "cells": [
  {
   "cell_type": "code",
   "execution_count": null,
   "metadata": {
    "vscode": {
     "languageId": "plaintext"
    }
   },
   "outputs": [],
   "source": [
    "from langchain.prompts import PromptTemplate\n",
    "from langchain.llms import OpenAI\n",
    "from langchain.output_parsers import StructuredOutputParser, ResponseSchema\n",
    "\n",
    "# Define the prompt template with two parameters\n",
    "prompt = PromptTemplate(\n",
    "    input_variables=[\"topic\", \"context\"],\n",
    "    template=\"Write a summary about {topic} based on the following context: {context}\"\n",
    ")\n",
    "\n",
    "# Initialize the language model\n",
    "llm = OpenAI(model=\"text-davinci-003\", temperature=0.7)\n",
    "\n",
    "# Define the response schema for the output parser\n",
    "response_schemas = [\n",
    "    ResponseSchema(name=\"summary\", description=\"A concise summary of the topic\"),\n",
    "    ResponseSchema(name=\"key_points\", description=\"Main points covered in the summary\")\n",
    "]\n",
    "\n",
    "output_parser = StructuredOutputParser.from_response_schemas(response_schemas)\n",
    "\n",
    "# Example function to evaluate the LCEL expression\n",
    "def evaluate_expression(topic, context):\n",
    "    # Generate the prompt with input parameters\n",
    "    formatted_prompt = prompt.format(topic=topic, context=context)\n",
    "    \n",
    "    # Get the response from the LLM\n",
    "    raw_output = llm(formatted_prompt)\n",
    "    \n",
    "    # Parse the output into a structured format\n",
    "    parsed_output = output_parser.parse(raw_output)\n",
    "    \n",
    "    return parsed_output\n",
    "\n",
    "# Example usage\n",
    "if __name__ == \"__main__\":\n",
    "    topic = \"Artificial Intelligence\"\n",
    "    context = \"Artificial Intelligence is a field of study focusing on creating machines capable of mimicking human intelligence. It includes machine learning, robotics, and natural language processing.\"\n",
    "    result = evaluate_expression(topic, context)\n",
    "    print(\"LCEL Expression Output:\")\n",
    "    print(result)"
   ]
  }
 ],
 "metadata": {
  "language_info": {
   "name": "python"
  }
 },
 "nbformat": 4,
 "nbformat_minor": 2
}
